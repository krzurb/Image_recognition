{
 "cells": [
  {
   "cell_type": "code",
   "execution_count": 1,
   "metadata": {},
   "outputs": [],
   "source": [
    "import torch\n",
    "import torch.nn as nn\n",
    "import torch.utils\n",
    "import torchvision\n",
    "import torchvision.transforms as transforms\n",
    "from PIL import Image\n",
    "import numpy as np\n",
    "import torch.nn.functional as F"
   ]
  },
  {
   "cell_type": "markdown",
   "metadata": {},
   "source": [
    "MODEL"
   ]
  },
  {
   "cell_type": "code",
   "execution_count": 2,
   "metadata": {},
   "outputs": [],
   "source": [
    "classes=('plane','car','bird','cat',\n",
    "         'deer','dog','frog','horse',\n",
    "         'ship','truck')\n",
    "\n",
    "class ConvNet(nn.Module):\n",
    "    def __init__(self):\n",
    "        super(ConvNet,self).__init__()\n",
    "        self.conv1=nn.Conv2d(3,6,5)\n",
    "        self.pool=nn.MaxPool2d(2,2)\n",
    "        self.conv2=nn.Conv2d(6,16,5)\n",
    "        self.fc1=nn.Linear(16*5*5,120)\n",
    "        self.fc2=nn.Linear(120,84)\n",
    "        self.fc3=nn.Linear(84,10) # 120 and 84 can be changed\n",
    "\n",
    "    def forward(self,x):\n",
    "        x=self.pool(F.relu(self.conv1(x)))\n",
    "        x=self.pool(F.relu(self.conv2(x)))\n",
    "        x=x.view(-1,16*5*5)\n",
    "        x = self.fc1(x)\n",
    "        x = F.relu(x)  \n",
    "        x = F.relu(self.fc2(x))\n",
    "        x=self.fc3(x)\n",
    "        return x"
   ]
  },
  {
   "cell_type": "markdown",
   "metadata": {},
   "source": [
    "TRAIN A MODEL - change parameters if needed"
   ]
  },
  {
   "cell_type": "code",
   "execution_count": null,
   "metadata": {},
   "outputs": [],
   "source": [
    "\n",
    "num_epochs=400\n",
    "batch_size=4\n",
    "learning_rate=0.001\n",
    "\n",
    "transform=transforms.Compose(\n",
    "    [transforms.ToTensor(),\n",
    "     transforms.Normalize((0.5,0.5,0.5),(0.5,0.5,0.5))])\n",
    "\n",
    "#CIFAR10\n",
    "train_dataset =torchvision.datasets.CIFAR10(root='./data',train=True,download=True,transform=transform)\n",
    "test_dataset =torchvision.datasets.CIFAR10(root='./data',train=False,download=True,transform=transform)\n",
    "\n",
    "train_loader=torch.utils.data.DataLoader(train_dataset,batch_size=batch_size,shuffle=True)\n",
    "test_loader=torch.utils.data.DataLoader(test_dataset,batch_size=batch_size,shuffle=False)\n",
    "\n",
    "    \n",
    "model=ConvNet()\n",
    "\n",
    "#loss and optimizer\n",
    "criterion=nn.CrossEntropyLoss()\n",
    "optimizer=torch.optim.SGD(model.parameters(),lr=learning_rate)\n",
    "\n",
    "\n",
    "#training loop\n",
    "\n",
    "n_total_steps=len(train_loader)\n",
    "for epoch in range(num_epochs):\n",
    "    for i, (images,labels) in enumerate(train_loader):\n",
    "        #forward \n",
    "        outputs=model(images)\n",
    "        loss = criterion(outputs,labels)\n",
    "        \n",
    "        # backward\n",
    "        optimizer.zero_grad()\n",
    "        loss.backward()\n",
    "        optimizer.step()\n",
    "        \n",
    "        if (i+1)%2000==0:\n",
    "            print(f'epoch {epoch+1}/{num_epochs}, step {i+1}/{n_total_steps},loss = {loss.item():.4f}')\n",
    "\n",
    "# test\n",
    "with torch.no_grad():\n",
    "    n_correct=0\n",
    "    n_samples=0\n",
    "    n_class_correct=np.zeros(10)\n",
    "    n_class_samples=np.zeros(10)\n",
    "    for images, labels in test_loader:\n",
    "\n",
    "        outputs=model(images)\n",
    "        #value, index \n",
    "        _,predicted=torch.max(outputs,1)\n",
    "        \n",
    "        n_samples+=labels.size(0)\n",
    "        n_correct+=(predicted==labels).sum().item()\n",
    "        \n",
    "        for i in range(batch_size):\n",
    "            label=labels[i]\n",
    "            pred=predicted[i]\n",
    "            if(label==pred):\n",
    "                n_class_correct[label]+=1\n",
    "            n_class_samples[label]+=1\n",
    "            \n",
    "            \n",
    "        \n",
    "    acc = 100.0*n_correct/n_samples\n",
    "    print(f'accuracy = {acc} %')\n",
    "    \n",
    "    for i in range(10):\n",
    "        acc= 100.0*n_class_correct[i]/n_class_samples[i]\n",
    "        print(f'Accuracy of {classes[i]}: {acc} %')\n",
    "        \n",
    "# Save the model\n",
    "torch.save(model.state_dict(), 'saved_model.pth')"
   ]
  },
  {
   "cell_type": "markdown",
   "metadata": {},
   "source": [
    "MAKE A PREDICTION WITH A SAVED MODEL"
   ]
  },
  {
   "cell_type": "code",
   "execution_count": 3,
   "metadata": {},
   "outputs": [
    {
     "name": "stdout",
     "output_type": "stream",
     "text": [
      "Predicted class, based on dog.jpg: dog\n",
      "Predicted class, based on cat.jpg: cat\n",
      "Predicted class, based on ship.jpg: ship\n"
     ]
    }
   ],
   "source": [
    "model=ConvNet()\n",
    "model.load_state_dict(torch.load('saved_model.pth'))\n",
    "model.eval()\n",
    "\n",
    "img=\"dog.jpg\"# add more photos if needed\n",
    "img2=\"cat.jpg\"\n",
    "img3=\"ship.jpg\"\n",
    "input_img = Image.open(img)\n",
    "input_img2 = Image.open(img2)\n",
    "input_img3 = Image.open(img3)\n",
    "\n",
    "# Apply transformations to the input image\n",
    "transform = transforms.Compose([\n",
    "    transforms.Resize((32, 32)),  # Resize the image to match the input size of the model\n",
    "    transforms.ToTensor(),\n",
    "    transforms.Normalize((0.5, 0.5, 0.5), (0.5, 0.5, 0.5))\n",
    "])\n",
    "\n",
    "input_tensor = transform(input_img).unsqueeze(0)\n",
    "input_tensor2 = transform(input_img2).unsqueeze(0)\n",
    "input_tensor3 = transform(input_img3).unsqueeze(0)\n",
    "\n",
    "# Make predictions\n",
    "with torch.no_grad():\n",
    "    output = model(input_tensor)\n",
    "    _, predicted = torch.max(output, 1)\n",
    "    output2 = model(input_tensor2)\n",
    "    _, predicted2 = torch.max(output2, 1)\n",
    "    output3 = model(input_tensor3)\n",
    "    _, predicted3 = torch.max(output3, 1)\n",
    "    \n",
    "print(\"Predicted class, based on \"+img+\":\", classes[predicted.item()])\n",
    "print(\"Predicted class, based on \"+img2+\":\", classes[predicted2.item()])\n",
    "print(\"Predicted class, based on \"+img3+\":\", classes[predicted3.item()])"
   ]
  }
 ],
 "metadata": {
  "kernelspec": {
   "display_name": "Python 3",
   "language": "python",
   "name": "python3"
  },
  "language_info": {
   "codemirror_mode": {
    "name": "ipython",
    "version": 3
   },
   "file_extension": ".py",
   "mimetype": "text/x-python",
   "name": "python",
   "nbconvert_exporter": "python",
   "pygments_lexer": "ipython3",
   "version": "3.10.11"
  }
 },
 "nbformat": 4,
 "nbformat_minor": 2
}
